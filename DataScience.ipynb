{
  "nbformat": 4,
  "nbformat_minor": 0,
  "metadata": {
    "colab": {
      "provenance": [],
      "authorship_tag": "ABX9TyNGGefswdeo5n0HcwR1uQ2b",
      "include_colab_link": true
    },
    "kernelspec": {
      "name": "python3",
      "display_name": "Python 3"
    },
    "language_info": {
      "name": "python"
    }
  },
  "cells": [
    {
      "cell_type": "markdown",
      "metadata": {
        "id": "view-in-github",
        "colab_type": "text"
      },
      "source": [
        "<a href=\"https://colab.research.google.com/github/zaroual9/DataScience/blob/main/DataScience.ipynb\" target=\"_parent\"><img src=\"https://colab.research.google.com/assets/colab-badge.svg\" alt=\"Open In Colab\"/></a>"
      ]
    },
    {
      "cell_type": "markdown",
      "source": [
        "##Data Science\n"
      ],
      "metadata": {
        "id": "G5BhqodUfMRs"
      }
    },
    {
      "cell_type": "markdown",
      "source": [
        "## Introduction\n",
        "\n",
        "In this notebook, we will answer the following questions:\n",
        "\n",
        "- Create a markdown cell with the title of the notebook.\n",
        "- Create a markdown cell for an introduction.\n",
        "- Create a markdown cell to list data science languages.\n",
        "- Create a markdown cell to list data science libraries.\n",
        "- Create a markdown cell with a table of Data Science tools.\n",
        "- Create a markdown cell introducing arithmetic expression examples.\n",
        "- Create a code cell to multiply and add numbers.\n",
        "- Create a code cell to convert minutes to hours.\n",
        "- Insert a markdown cell to list Objectives.\n",
        "- Create a markdown cell to indicate the Author’s name.\n",
        "- Share your notebook through GitHub.\n",
        "- Take a screenshot of the first page of the notebook.\n"
      ],
      "metadata": {
        "id": "TgifLEjlg1zi"
      }
    },
    {
      "cell_type": "markdown",
      "source": [
        "## Data Science Languages\n",
        "\n",
        "When it comes to data science, various programming languages are widely used for data analysis, machine learning, and statistical modeling. Some of the prominent data science languages include:\n",
        "\n",
        "1. **Python**: Python is one of the most popular languages for data science due to its simplicity, versatility, and extensive libraries like NumPy, Pandas, and scikit-learn.\n",
        "\n",
        "2. **R**: R is specifically designed for statistical analysis and data visualization, making it a preferred choice for statisticians and researchers.\n",
        "\n",
        "3. **Julia**: Julia is known for its high-performance capabilities and is gaining traction in data science for tasks that require complex numerical computations.\n",
        "\n",
        "4. **SQL**: SQL (Structured Query Language) is essential for working with relational databases, which are commonly used to store and manage structured data.\n",
        "\n",
        "5. **SAS**: SAS (Statistical Analysis System) is a software suite used for advanced analytics, multivariate analysis, and data management.\n",
        "\n",
        "6. **Java**: Java is employed for large-scale data processing and building robust applications that require data manipulation.\n",
        "\n",
        "Each of these languages has its strengths and is suitable for different aspects of the data science workflow.\n"
      ],
      "metadata": {
        "id": "4tuF90waisM-"
      }
    },
    {
      "cell_type": "markdown",
      "source": [
        "## Data Science Libraries\n",
        "\n",
        "Data science is empowered by a wide range of libraries and frameworks that provide tools for data manipulation, analysis, visualization, and machine learning. Some of the key libraries used in Python for data science include:\n",
        "\n",
        "1. **NumPy**: A fundamental library for numerical computations in Python, providing support for arrays, matrices, and mathematical functions.\n",
        "\n",
        "2. **Pandas**: A powerful library for data manipulation and analysis, offering data structures like DataFrames for efficient data handling.\n",
        "\n",
        "3. **Matplotlib**: A widely-used library for creating static, interactive, and animated visualizations in Python.\n",
        "\n",
        "4. **Seaborn**: Built on top of Matplotlib, Seaborn offers a higher-level interface for creating attractive and informative statistical graphics.\n",
        "\n",
        "5. **Scikit-learn**: A machine learning library that provides various algorithms for classification, regression, clustering, and more.\n",
        "\n",
        "6. **TensorFlow**: An open-source machine learning framework developed by Google for building and training neural networks.\n",
        "\n",
        "7. **Keras**: A user-friendly neural network library that can run on top of TensorFlow, simplifying the process of building and training deep learning models.\n",
        "\n",
        "8. **PyTorch**: Another popular open-source machine learning framework, known for its dynamic computational graph and strong support for research.\n",
        "\n",
        "9. **StatsModels**: A library focused on statistical modeling and hypothesis testing, providing classes and functions for various statistical analyses.\n",
        "\n",
        "10. **NLTK (Natural Language Toolkit)**: A library for working with human language data, offering tools for text processing, linguistic analysis, and more.\n",
        "\n",
        "11. **Beautiful Soup**: A library used for web scraping tasks, making it easier to extract data from HTML and XML documents.\n",
        "\n",
        "These libraries, among others, play a crucial role in enabling data scientists to efficiently perform a wide array of tasks throughout the data science workflow.\n"
      ],
      "metadata": {
        "id": "v7tZh8xYi9Zn"
      }
    },
    {
      "cell_type": "markdown",
      "source": [
        "## Data Science Tools\n",
        "\n",
        "| Tool              | Description                                                                                                                                                 |\n",
        "|-------------------|-------------------------------------------------------------------------------------------------------------------------------------------------------------|\n",
        "| **Programming Languages** |                                                                                                                                         |\n",
        "| Python            | Versatile language for data manipulation, analysis, and machine learning with rich libraries like NumPy, Pandas, and scikit-learn.                   |\n",
        "| R                 | Designed for statistical analysis and data visualization, widely used by statisticians and researchers.                                               |\n",
        "| Julia             | High-performance language for numerical computations, gaining popularity for data-intensive tasks.                                                     |\n",
        "| **Data Manipulation & Analysis** |                                                                                                               |\n",
        "| NumPy             | Library for numerical computations, offering arrays and matrices along with mathematical functions.                                                   |\n",
        "| Pandas            | Powerful library for data manipulation and analysis, providing DataFrames to efficiently handle structured data.                                    |\n",
        "| SQL               | Query language for managing and manipulating relational databases, crucial for data storage and retrieval.                                            |\n",
        "| **Visualization** |                                                                                                                                                |\n",
        "| Matplotlib        | Widely-used library for creating static, interactive, and animated visualizations in Python.                                                           |\n",
        "| Seaborn           | Built on Matplotlib, Seaborn provides a higher-level interface for creating appealing and informative statistical graphics.                          |\n",
        "| Plotly            | Library for interactive visualizations, producing interactive plots and dashboards that can be shared online.                                         |\n",
        "| **Machine Learning** |                                                                                                                     |\n",
        "| Scikit-learn      | Machine learning library offering various algorithms for classification, regression, clustering, and more.                                           |\n",
        "| TensorFlow        | Open-source framework by Google for building and training neural networks, suitable for deep learning projects.                                      |\n",
        "| PyTorch           | Dynamic neural network framework known for its flexibility, widely used for research and developing complex models.                                   |\n",
        "| **Natural Language Processing (NLP)** |                                                                                                      |\n",
        "| NLTK              | Library for text processing and linguistic analysis, supporting various NLP tasks like tokenization, stemming, and more.                            |\n",
        "| SpaCy             | Industrial-strength NLP library offering pre-trained models and tools for tasks like named entity recognition and part-of-speech tagging.            |\n",
        "| **Web Scraping**  |                                                                                                                                         |\n",
        "| Beautiful Soup    | Python library for web scraping, simplifying the extraction of data from HTML and XML documents.                                                        |\n",
        "| Scrapy            | Framework for web scraping that provides tools for navigating websites, extracting data, and saving it in structured formats.                       |\n",
        "\n"
      ],
      "metadata": {
        "id": "wH0ONitFjHyt"
      }
    },
    {
      "cell_type": "markdown",
      "source": [
        "## Arithmetic Expression Examples\n",
        "\n",
        "Arithmetic expressions are fundamental in mathematics and programming, allowing us to perform various mathematical operations. In this section, we'll explore some basic arithmetic expressions using common mathematical operators:\n",
        "\n",
        "1. **Addition (+)**: Combine two or more numbers to find their sum. For example, `2 + 3` equals `5`.\n",
        "\n",
        "2. **Subtraction (-)**: Subtract one number from another. For instance, `7 - 4` results in `3`.\n",
        "\n",
        "3. **Multiplication (*)**: Multiply two numbers to obtain their product. As an example, `5 * 6` gives us `30`.\n",
        "\n",
        "4. **Division (/)**: Divide one number by another to get the quotient. For example, `10 / 2` yields `5`.\n",
        "\n",
        "5. **Exponentiation (**) or (^)**: Raise a number to a certain power. For instance, `2 ** 3` or `2^3` equals `8`.\n",
        "\n",
        "6. **Modulo (%)**: Find the remainder when one number is divided by another. For example, `7 % 3` results in `1`.\n",
        "\n",
        "\n"
      ],
      "metadata": {
        "id": "FlDbSM9bjypG"
      }
    },
    {
      "cell_type": "code",
      "source": [
        "# Multiply two numbers\n",
        "num1 = 5\n",
        "num2 = 3\n",
        "product = num1 * num2\n",
        "print(f\"The product of {num1} and {num2} is: {product}\")\n",
        "\n",
        "# Add two numbers\n",
        "num3 = 10\n",
        "num4 = 7\n",
        "sum_result = num3 + num4\n",
        "print(f\"The sum of {num3} and {num4} is: {sum_result}\")\n"
      ],
      "metadata": {
        "colab": {
          "base_uri": "https://localhost:8080/"
        },
        "id": "HBIFbA0dkN2n",
        "outputId": "4e6c05f2-1e21-43bc-fb38-74b517ae751d"
      },
      "execution_count": 1,
      "outputs": [
        {
          "output_type": "stream",
          "name": "stdout",
          "text": [
            "The product of 5 and 3 is: 15\n",
            "The sum of 10 and 7 is: 17\n"
          ]
        }
      ]
    },
    {
      "cell_type": "code",
      "source": [
        "# Convert minutes to hours\n",
        "minutes = 150\n",
        "hours = minutes / 60\n",
        "\n",
        "print(f\"{minutes} minutes is equal to {hours:.2f} hours\")\n"
      ],
      "metadata": {
        "colab": {
          "base_uri": "https://localhost:8080/"
        },
        "id": "LkdSzXF-kbLM",
        "outputId": "27034fd5-10c9-483d-80a0-f395b34ec1f7"
      },
      "execution_count": 2,
      "outputs": [
        {
          "output_type": "stream",
          "name": "stdout",
          "text": [
            "150 minutes is equal to 2.50 hours\n"
          ]
        }
      ]
    },
    {
      "cell_type": "markdown",
      "source": [
        "## Objectives\n",
        "\n",
        "In this project/notebook, we aim to accomplish the following objectives:\n",
        "\n",
        "1. **Demonstrate Markdown Usage**: Showcase the effective use of Markdown for formatting text, creating headers, lists, tables, and code cells.\n",
        "\n",
        "2. **Introduce Data Science Concepts**: Provide an overview of key data science concepts, including data manipulation, visualization, and basic arithmetic operations.\n",
        "\n",
        "3. **Highlight Essential Libraries**: Introduce important data science libraries such as NumPy, Pandas, Matplotlib, and more, emphasizing their roles in various tasks.\n",
        "\n",
        "4. **Hands-on Coding Examples**: Offer practical code examples for performing arithmetic operations, converting units, and using basic Python constructs.\n",
        "\n",
        "5. **Promote Best Practices**: Encourage adherence to coding best practices, such as clear variable naming, comments, and organized code structure.\n",
        "\n",
        "6. **Share Notebooks on GitHub**: Guide the process of sharing notebooks through GitHub, fostering collaboration and version control among team members.\n",
        "\n",
        "7. **Illustrate Notebook Components**: Illustrate the diverse elements of a Jupyter Notebook, including markdown cells, code cells, and visualizations.\n",
        "\n",
        "8. **Provide Real-world Relevance**: Relate concepts and examples to real-world scenarios, demonstrating the applicability of data science skills.\n",
        "\n",
        "By the end of this project/notebook, you should have a solid understanding of Markdown formatting, basic data science concepts, essential libraries, and practical coding skills.\n"
      ],
      "metadata": {
        "id": "f5Co96XmkrEV"
      }
    },
    {
      "cell_type": "markdown",
      "source": [
        "## Author\n",
        "\n",
        "This project/notebook was created by Ayoub Zaroual.\n"
      ],
      "metadata": {
        "id": "sNi2AZ53kzj3"
      }
    }
  ]
}